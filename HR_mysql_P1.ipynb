{
 "cells": [
  {
   "cell_type": "code",
   "execution_count": 3,
   "id": "83010716-eb1c-457b-a7d3-3661ab4ad3b3",
   "metadata": {},
   "outputs": [
    {
     "name": "stdout",
     "output_type": "stream",
     "text": [
      "Collecting pymysql\n",
      "  Obtaining dependency information for pymysql from https://files.pythonhosted.org/packages/0c/94/e4181a1f6286f545507528c78016e00065ea913276888db2262507693ce5/PyMySQL-1.1.1-py3-none-any.whl.metadata\n",
      "  Downloading PyMySQL-1.1.1-py3-none-any.whl.metadata (4.4 kB)\n",
      "Downloading PyMySQL-1.1.1-py3-none-any.whl (44 kB)\n",
      "   ---------------------------------------- 0.0/45.0 kB ? eta -:--:--\n",
      "   --------- ------------------------------ 10.2/45.0 kB ? eta -:--:--\n",
      "   --------------------------- ------------ 30.7/45.0 kB 262.6 kB/s eta 0:00:01\n",
      "   ---------------------------------------- 45.0/45.0 kB 373.5 kB/s eta 0:00:00\n",
      "Installing collected packages: pymysql\n",
      "Successfully installed pymysql-1.1.1\n"
     ]
    }
   ],
   "source": [
    "!pip install pymysql"
   ]
  },
  {
   "cell_type": "code",
   "execution_count": 5,
   "id": "103834dc-ec20-42b8-b9cc-64ae0702beaf",
   "metadata": {},
   "outputs": [],
   "source": [
    "import pymysql\n",
    "import pandas as pd\n",
    "\n",
    "# Connect to MySQL database\n",
    "connection = pymysql.connect(\n",
    "    host='localhost',  # Replace with your host\n",
    "    user='root',  # Replace with your username\n",
    "    password='alameen123',  # Replace with your password\n",
    "    database='hr'  # Replace with your database name\n",
    ")\n",
    "\n",
    "cursor = connection.cursor()"
   ]
  },
  {
   "cell_type": "code",
   "execution_count": 7,
   "id": "f079214a-a093-4218-a270-32f28c44ce33",
   "metadata": {},
   "outputs": [
    {
     "name": "stdout",
     "output_type": "stream",
     "text": [
      "     employee_id first_name last_name     email    phone_number   hire_date  \\\n",
      "0            100     Steven      King     SKING    515.123.4567  1987-06-17   \n",
      "1            101      Neena   Kochhar  NKOCHHAR    515.123.4568  1989-09-21   \n",
      "2            102        Lex   De Haan   LDEHAAN    515.123.4569  1993-01-13   \n",
      "3            103  Alexander    Hunold   AHUNOLD    590.423.4567  1990-01-03   \n",
      "4            104      Bruce     Ernst    BERNST    590.423.4568  1991-05-21   \n",
      "..           ...        ...       ...       ...             ...         ...   \n",
      "102          202        Pat       Fay      PFAY    603.123.6666  1997-08-17   \n",
      "103          203      Susan    Mavris   SMAVRIS    515.123.7777  1994-06-07   \n",
      "104          204    Hermann      Baer     HBAER    515.123.8888  1994-06-07   \n",
      "105          205    Shelley   Higgins  SHIGGINS    515.123.8080  1994-06-07   \n",
      "106          206    William     Gietz    WGIETZ  51hr5.123.8181  1994-06-07   \n",
      "\n",
      "         job_id   salary  commission_pct  manager_id  department_id  \n",
      "0       AD_PRES  24000.0             NaN         NaN           90.0  \n",
      "1         AD_VP  17000.0             NaN       100.0           90.0  \n",
      "2         AD_VP  17000.0             NaN       100.0           90.0  \n",
      "3       IT_PROG   9000.0             NaN       102.0           60.0  \n",
      "4       IT_PROG   6000.0             NaN       103.0           60.0  \n",
      "..          ...      ...             ...         ...            ...  \n",
      "102      MK_REP   6000.0             NaN       201.0           20.0  \n",
      "103      HR_REP   6500.0             NaN       101.0           40.0  \n",
      "104      PR_REP  10000.0             NaN       101.0           70.0  \n",
      "105      AC_MGR  12000.0             NaN       101.0          110.0  \n",
      "106  AC_ACCOUNT   8300.0             NaN       205.0          110.0  \n",
      "\n",
      "[107 rows x 11 columns]\n"
     ]
    }
   ],
   "source": [
    "cursor.execute(\"SELECT * FROM employees\")\n",
    "result = cursor.fetchall()\n",
    "df = pd.DataFrame(result, columns=[i[0] for i in cursor.description])\n",
    "print(df)"
   ]
  },
  {
   "cell_type": "code",
   "execution_count": 9,
   "id": "4ccd0cca-f1b6-46ec-b050-69ed553bef1c",
   "metadata": {},
   "outputs": [
    {
     "name": "stdout",
     "output_type": "stream",
     "text": [
      "    first_name last_name     email\n",
      "0       Steven      King     SKING\n",
      "1        Neena   Kochhar  NKOCHHAR\n",
      "2          Lex   De Haan   LDEHAAN\n",
      "3    Alexander    Hunold   AHUNOLD\n",
      "4        Bruce     Ernst    BERNST\n",
      "..         ...       ...       ...\n",
      "102        Pat       Fay      PFAY\n",
      "103      Susan    Mavris   SMAVRIS\n",
      "104    Hermann      Baer     HBAER\n",
      "105    Shelley   Higgins  SHIGGINS\n",
      "106    William     Gietz    WGIETZ\n",
      "\n",
      "[107 rows x 3 columns]\n"
     ]
    }
   ],
   "source": [
    "cursor.execute(\"SELECT first_name, last_name, email FROM employees\")\n",
    "result = cursor.fetchall()\n",
    "df = pd.DataFrame(result, columns=[\"first_name\", \"last_name\", \"email\"])\n",
    "print(df)"
   ]
  },
  {
   "cell_type": "code",
   "execution_count": 11,
   "id": "1615ab34-0f2b-4e42-82e3-fc32233af123",
   "metadata": {},
   "outputs": [
    {
     "name": "stdout",
     "output_type": "stream",
     "text": [
      "                          job_title\n",
      "0                 Public Accountant\n",
      "1                Accounting Manager\n",
      "2          Administration Assistant\n",
      "3                         President\n",
      "4     Administration Vice President\n",
      "5                        Accountant\n",
      "6                   Finance Manager\n",
      "7    Human Resources Representative\n",
      "8                        Programmer\n",
      "9                 Marketing Manager\n",
      "10         Marketing Representative\n",
      "11  Public Relations Representative\n",
      "12                 Purchasing Clerk\n",
      "13               Purchasing Manager\n",
      "14                    Sales Manager\n",
      "15             Sales Representative\n",
      "16                   Shipping Clerk\n",
      "17                      Stock Clerk\n",
      "18                    Stock Manager\n"
     ]
    }
   ],
   "source": [
    "cursor.execute(\"SELECT DISTINCT job_title FROM jobs\")\n",
    "result = cursor.fetchall()\n",
    "df = pd.DataFrame(result, columns=[\"job_title\"])\n",
    "print(df)"
   ]
  },
  {
   "cell_type": "code",
   "execution_count": 13,
   "id": "a0f28294-fca4-4527-98fe-336bbd04c4eb",
   "metadata": {},
   "outputs": [
    {
     "name": "stdout",
     "output_type": "stream",
     "text": [
      "Total Employees: 107\n"
     ]
    }
   ],
   "source": [
    "cursor.execute(\"SELECT COUNT(*) AS total_employees FROM employees\")\n",
    "result = cursor.fetchone()\n",
    "print(f\"Total Employees: {result[0]}\")"
   ]
  },
  {
   "cell_type": "code",
   "execution_count": 15,
   "id": "cf0e4dd5-0ab3-4924-9aa4-a4e086a0bbaf",
   "metadata": {},
   "outputs": [
    {
     "name": "stdout",
     "output_type": "stream",
     "text": [
      "Empty DataFrame\n",
      "Columns: [employee_id, first_name, last_name, email, phone_number, hire_date, job_id, salary, commission_pct, manager_id, department_id]\n",
      "Index: []\n"
     ]
    }
   ],
   "source": [
    "cursor.execute(\"SELECT * FROM employees WHERE hire_date > '2015-01-01'\")\n",
    "result = cursor.fetchall()\n",
    "df = pd.DataFrame(result, columns=[i[0] for i in cursor.description])\n",
    "print(df)"
   ]
  },
  {
   "cell_type": "code",
   "execution_count": 17,
   "id": "f662e8ae-381f-4d13-a7a7-6d9c25b16319",
   "metadata": {},
   "outputs": [
    {
     "name": "stdout",
     "output_type": "stream",
     "text": [
      "    employee_id   first_name   last_name     email        phone_number  \\\n",
      "0           100       Steven        King     SKING        515.123.4567   \n",
      "1           101        Neena     Kochhar  NKOCHHAR        515.123.4568   \n",
      "2           102          Lex     De Haan   LDEHAAN        515.123.4569   \n",
      "3           103    Alexander      Hunold   AHUNOLD        590.423.4567   \n",
      "4           104        Bruce       Ernst    BERNST        590.423.4568   \n",
      "5           108        Nancy   Greenberg  NGREENBE        515.124.4569   \n",
      "6           109       Daniel      Faviet   DFAVIET        515.124.4169   \n",
      "7           110         John        Chen     JCHEN        515.124.4269   \n",
      "8           111       Ismael     Sciarra  ISCIARRA        515.124.4369   \n",
      "9           112  Jose Manuel       Urman   JMURMAN        515.124.4469   \n",
      "10          113         Luis        Popp     LPOPP        515.124.4567   \n",
      "11          114          Den    Raphaely  DRAPHEAL        515.127.4561   \n",
      "12          120      Matthew       Weiss    MWEISS        650.123.1234   \n",
      "13          121         Adam       Fripp    AFRIPP        650.123.2234   \n",
      "14          122        Payam    Kaufling  PKAUFLIN        650.123.3234   \n",
      "15          123       Shanta     Vollman  SVOLLMAN        650.123.4234   \n",
      "16          124        Kevin     Mourgos  KMOURGOS        650.123.5234   \n",
      "17          145         John     Russell   JRUSSEL  011.44.1344.429268   \n",
      "18          146        Karen    Partners  KPARTNER  011.44.1344.467268   \n",
      "19          147      Alberto   Errazuriz  AERRAZUR  011.44.1344.429278   \n",
      "20          148       Gerald   Cambrault  GCAMBRAU  011.44.1344.619268   \n",
      "21          149        Eleni     Zlotkey  EZLOTKEY  011.44.1344.429018   \n",
      "22          150        Peter      Tucker   PTUCKER  011.44.1344.129268   \n",
      "23          151        David   Bernstein  DBERNSTE  011.44.1344.345268   \n",
      "24          152        Peter        Hall     PHALL  011.44.1344.478968   \n",
      "25          153  Christopher       Olsen    COLSEN  011.44.1344.498718   \n",
      "26          154      Nanette   Cambrault  NCAMBRAU  011.44.1344.987668   \n",
      "27          155       Oliver     Tuvault  OTUVAULT  011.44.1344.486508   \n",
      "28          156      Janette        King     JKING  011.44.1345.429268   \n",
      "29          157      Patrick       Sully    PSULLY  011.44.1345.929268   \n",
      "30          158        Allan      McEwen   AMCEWEN  011.44.1345.829268   \n",
      "31          159      Lindsey       Smith    LSMITH  011.44.1345.729268   \n",
      "32          160       Louise       Doran    LDORAN  011.44.1345.629268   \n",
      "33          161       Sarath      Sewall   SSEWALL  011.44.1345.529268   \n",
      "34          162        Clara     Vishney  CVISHNEY  011.44.1346.129268   \n",
      "35          163     Danielle      Greene   DGREENE  011.44.1346.229268   \n",
      "36          164       Mattea     Marvins  MMARVINS  011.44.1346.329268   \n",
      "37          165        David         Lee      DLEE  011.44.1346.529268   \n",
      "38          166       Sundar        Ande     SANDE  011.44.1346.629268   \n",
      "39          167         Amit       Banda    ABANDA  011.44.1346.729268   \n",
      "40          168         Lisa        Ozer     LOZER  011.44.1343.929268   \n",
      "41          169     Harrison       Bloom    HBLOOM  011.44.1343.829268   \n",
      "42          170       Tayler         Fox      TFOX  011.44.1343.729268   \n",
      "43          171      William       Smith    WSMITH  011.44.1343.629268   \n",
      "44          172    Elizabeth       Bates    EBATES  011.44.1343.529268   \n",
      "45          173      Sundita       Kumar    SKUMAR  011.44.1343.329268   \n",
      "46          174        Ellen        Abel     EABEL  011.44.1644.429267   \n",
      "47          175       Alyssa      Hutton   AHUTTON  011.44.1644.429266   \n",
      "48          176     Jonathon      Taylor   JTAYLOR  011.44.1644.429265   \n",
      "49          177         Jack  Livingston  JLIVINGS  011.44.1644.429264   \n",
      "50          178    Kimberely       Grant    KGRANT  011.44.1644.429263   \n",
      "51          179      Charles     Johnson  CJOHNSON  011.44.1644.429262   \n",
      "52          201      Michael   Hartstein  MHARTSTE        515.123.5555   \n",
      "53          202          Pat         Fay      PFAY        603.123.6666   \n",
      "54          203        Susan      Mavris   SMAVRIS        515.123.7777   \n",
      "55          204      Hermann        Baer     HBAER        515.123.8888   \n",
      "56          205      Shelley     Higgins  SHIGGINS        515.123.8080   \n",
      "57          206      William       Gietz    WGIETZ      51hr5.123.8181   \n",
      "\n",
      "     hire_date      job_id   salary  commission_pct  manager_id  department_id  \n",
      "0   1987-06-17     AD_PRES  24000.0             NaN         NaN           90.0  \n",
      "1   1989-09-21       AD_VP  17000.0             NaN       100.0           90.0  \n",
      "2   1993-01-13       AD_VP  17000.0             NaN       100.0           90.0  \n",
      "3   1990-01-03     IT_PROG   9000.0             NaN       102.0           60.0  \n",
      "4   1991-05-21     IT_PROG   6000.0             NaN       103.0           60.0  \n",
      "5   1994-08-17      FI_MGR  12000.0             NaN       101.0          100.0  \n",
      "6   1994-08-16  FI_ACCOUNT   9000.0             NaN       108.0          100.0  \n",
      "7   1997-09-28  FI_ACCOUNT   8200.0             NaN       108.0          100.0  \n",
      "8   1997-09-30  FI_ACCOUNT   7700.0             NaN       108.0          100.0  \n",
      "9   1998-03-07  FI_ACCOUNT   7800.0             NaN       108.0          100.0  \n",
      "10  1999-12-07  FI_ACCOUNT   6900.0             NaN       108.0          100.0  \n",
      "11  1994-12-07      PU_MAN  11000.0             NaN       100.0           30.0  \n",
      "12  1996-07-18      ST_MAN   8000.0             NaN       100.0           50.0  \n",
      "13  1997-04-10      ST_MAN   8200.0             NaN       100.0           50.0  \n",
      "14  1995-05-01      ST_MAN   7900.0             NaN       100.0           50.0  \n",
      "15  1997-10-10      ST_MAN   6500.0             NaN       100.0           50.0  \n",
      "16  1999-11-16      ST_MAN   5800.0             NaN       100.0           50.0  \n",
      "17  1996-10-01      SA_MAN  14000.0            0.40       100.0           80.0  \n",
      "18  1997-01-05      SA_MAN  13500.0            0.30       100.0           80.0  \n",
      "19  1997-03-10      SA_MAN  12000.0            0.30       100.0           80.0  \n",
      "20  1999-10-15      SA_MAN  11000.0            0.30       100.0           80.0  \n",
      "21  2000-01-29      SA_MAN  10500.0            0.20       100.0           80.0  \n",
      "22  1997-01-30      SA_REP  10000.0            0.30       145.0           80.0  \n",
      "23  1997-03-24      SA_REP   9500.0            0.25       145.0           80.0  \n",
      "24  1997-08-20      SA_REP   9000.0            0.25       145.0           80.0  \n",
      "25  1998-03-30      SA_REP   8000.0            0.20       145.0           80.0  \n",
      "26  1998-12-09      SA_REP   7500.0            0.20       145.0           80.0  \n",
      "27  1999-11-23      SA_REP   7000.0            0.15       145.0           80.0  \n",
      "28  1996-01-30      SA_REP  10000.0            0.35       146.0           80.0  \n",
      "29  1996-03-04      SA_REP   9500.0            0.35       146.0           80.0  \n",
      "30  1996-08-01      SA_REP   9000.0            0.35       146.0           80.0  \n",
      "31  1997-03-10      SA_REP   8000.0            0.30       146.0           80.0  \n",
      "32  1997-12-15      SA_REP   7500.0            0.30       146.0           80.0  \n",
      "33  1998-11-03      SA_REP   7000.0            0.25       146.0           80.0  \n",
      "34  1997-11-11      SA_REP  10500.0            0.25       147.0           80.0  \n",
      "35  1999-03-19      SA_REP   9500.0            0.15       147.0           80.0  \n",
      "36  2000-01-24      SA_REP   7200.0            0.10       147.0           80.0  \n",
      "37  2000-02-23      SA_REP   6800.0            0.10       147.0           80.0  \n",
      "38  2000-03-24      SA_REP   6400.0            0.10       147.0           80.0  \n",
      "39  2000-04-21      SA_REP   6200.0            0.10       147.0           80.0  \n",
      "40  1997-03-11      SA_REP  11500.0            0.25       148.0           80.0  \n",
      "41  1998-03-23      SA_REP  10000.0            0.20       148.0           80.0  \n",
      "42  1998-01-24      SA_REP   9600.0            0.20       148.0           80.0  \n",
      "43  1999-02-23      SA_REP   7400.0            0.15       148.0           80.0  \n",
      "44  1999-03-24      SA_REP   7300.0            0.15       148.0           80.0  \n",
      "45  2000-04-21      SA_REP   6100.0            0.10       148.0           80.0  \n",
      "46  1996-05-11      SA_REP  11000.0            0.30       149.0           80.0  \n",
      "47  1997-03-19      SA_REP   8800.0            0.25       149.0           80.0  \n",
      "48  1998-03-24      SA_REP   8600.0            0.20       149.0           80.0  \n",
      "49  1998-04-23      SA_REP   8400.0            0.20       149.0           80.0  \n",
      "50  1999-05-24      SA_REP   7000.0            0.15       149.0            NaN  \n",
      "51  2000-01-04      SA_REP   6200.0            0.10       149.0           80.0  \n",
      "52  1996-02-17      MK_MAN  13000.0             NaN       100.0           20.0  \n",
      "53  1997-08-17      MK_REP   6000.0             NaN       201.0           20.0  \n",
      "54  1994-06-07      HR_REP   6500.0             NaN       101.0           40.0  \n",
      "55  1994-06-07      PR_REP  10000.0             NaN       101.0           70.0  \n",
      "56  1994-06-07      AC_MGR  12000.0             NaN       101.0          110.0  \n",
      "57  1994-06-07  AC_ACCOUNT   8300.0             NaN       205.0          110.0  \n"
     ]
    }
   ],
   "source": [
    "cursor.execute(\"SELECT * FROM employees WHERE salary > 5000\")\n",
    "result = cursor.fetchall()\n",
    "df = pd.DataFrame(result, columns=[i[0] for i in cursor.description])\n",
    "print(df)"
   ]
  },
  {
   "cell_type": "code",
   "execution_count": 19,
   "id": "ffabe920-3f82-44f3-b496-9b0d8a95e44e",
   "metadata": {},
   "outputs": [
    {
     "name": "stdout",
     "output_type": "stream",
     "text": [
      "    employee_id first_name  last_name     email        phone_number  \\\n",
      "0           205    Shelley    Higgins  SHIGGINS        515.123.8080   \n",
      "1           108      Nancy  Greenberg  NGREENBE        515.124.4569   \n",
      "2           201    Michael  Hartstein  MHARTSTE        515.123.5555   \n",
      "3           114        Den   Raphaely  DRAPHEAL        515.127.4561   \n",
      "4           145       John    Russell   JRUSSEL  011.44.1344.429268   \n",
      "5           146      Karen   Partners  KPARTNER  011.44.1344.467268   \n",
      "6           147    Alberto  Errazuriz  AERRAZUR  011.44.1344.429278   \n",
      "7           148     Gerald  Cambrault  GCAMBRAU  011.44.1344.619268   \n",
      "8           149      Eleni    Zlotkey  EZLOTKEY  011.44.1344.429018   \n",
      "9           120    Matthew      Weiss    MWEISS        650.123.1234   \n",
      "10          121       Adam      Fripp    AFRIPP        650.123.2234   \n",
      "11          122      Payam   Kaufling  PKAUFLIN        650.123.3234   \n",
      "12          123     Shanta    Vollman  SVOLLMAN        650.123.4234   \n",
      "13          124      Kevin    Mourgos  KMOURGOS        650.123.5234   \n",
      "\n",
      "     hire_date  job_id   salary  commission_pct  manager_id  department_id  \\\n",
      "0   1994-06-07  AC_MGR  12000.0             NaN         101            110   \n",
      "1   1994-08-17  FI_MGR  12000.0             NaN         101            100   \n",
      "2   1996-02-17  MK_MAN  13000.0             NaN         100             20   \n",
      "3   1994-12-07  PU_MAN  11000.0             NaN         100             30   \n",
      "4   1996-10-01  SA_MAN  14000.0             0.4         100             80   \n",
      "5   1997-01-05  SA_MAN  13500.0             0.3         100             80   \n",
      "6   1997-03-10  SA_MAN  12000.0             0.3         100             80   \n",
      "7   1999-10-15  SA_MAN  11000.0             0.3         100             80   \n",
      "8   2000-01-29  SA_MAN  10500.0             0.2         100             80   \n",
      "9   1996-07-18  ST_MAN   8000.0             NaN         100             50   \n",
      "10  1997-04-10  ST_MAN   8200.0             NaN         100             50   \n",
      "11  1995-05-01  ST_MAN   7900.0             NaN         100             50   \n",
      "12  1997-10-10  ST_MAN   6500.0             NaN         100             50   \n",
      "13  1999-11-16  ST_MAN   5800.0             NaN         100             50   \n",
      "\n",
      "             job_title  \n",
      "0   Accounting Manager  \n",
      "1      Finance Manager  \n",
      "2    Marketing Manager  \n",
      "3   Purchasing Manager  \n",
      "4        Sales Manager  \n",
      "5        Sales Manager  \n",
      "6        Sales Manager  \n",
      "7        Sales Manager  \n",
      "8        Sales Manager  \n",
      "9        Stock Manager  \n",
      "10       Stock Manager  \n",
      "11       Stock Manager  \n",
      "12       Stock Manager  \n",
      "13       Stock Manager  \n"
     ]
    }
   ],
   "source": [
    "cursor.execute(\"\"\"\n",
    "    SELECT e.*, j.job_title\n",
    "    FROM employees e\n",
    "    JOIN jobs j ON e.job_id = j.job_id\n",
    "    WHERE j.job_title LIKE '%Manager%'\n",
    "\"\"\")\n",
    "result = cursor.fetchall()\n",
    "df = pd.DataFrame(result, columns=[i[0] for i in cursor.description])\n",
    "print(df)"
   ]
  },
  {
   "cell_type": "code",
   "execution_count": 21,
   "id": "f4d64f76-7920-4d88-a11a-1a9ca4fe24ef",
   "metadata": {},
   "outputs": [
    {
     "name": "stdout",
     "output_type": "stream",
     "text": [
      "   employee_id first_name last_name    email        phone_number   hire_date  \\\n",
      "0          158      Allan    McEwen  AMCEWEN  011.44.1345.829268  1996-08-01   \n",
      "\n",
      "   job_id  salary  commission_pct  manager_id  department_id  \n",
      "0  SA_REP  9000.0            0.35         146             80  \n"
     ]
    }
   ],
   "source": [
    "cursor.execute(\"SELECT * FROM employees WHERE first_name LIKE 'A%n'\")\n",
    "result = cursor.fetchall()\n",
    "df = pd.DataFrame(result, columns=[i[0] for i in cursor.description])\n",
    "print(df)"
   ]
  },
  {
   "cell_type": "code",
   "execution_count": 23,
   "id": "5e4ca6f2-b4ea-4ed4-9566-aa2b3da4b568",
   "metadata": {},
   "outputs": [
    {
     "name": "stdout",
     "output_type": "stream",
     "text": [
      "    employee_id first_name last_name     email    phone_number   hire_date  \\\n",
      "0           100     Steven      King     SKING    515.123.4567  1987-06-17   \n",
      "1           101      Neena   Kochhar  NKOCHHAR    515.123.4568  1989-09-21   \n",
      "2           102        Lex   De Haan   LDEHAAN    515.123.4569  1993-01-13   \n",
      "3           103  Alexander    Hunold   AHUNOLD    590.423.4567  1990-01-03   \n",
      "4           104      Bruce     Ernst    BERNST    590.423.4568  1991-05-21   \n",
      "..          ...        ...       ...       ...             ...         ...   \n",
      "67          202        Pat       Fay      PFAY    603.123.6666  1997-08-17   \n",
      "68          203      Susan    Mavris   SMAVRIS    515.123.7777  1994-06-07   \n",
      "69          204    Hermann      Baer     HBAER    515.123.8888  1994-06-07   \n",
      "70          205    Shelley   Higgins  SHIGGINS    515.123.8080  1994-06-07   \n",
      "71          206    William     Gietz    WGIETZ  51hr5.123.8181  1994-06-07   \n",
      "\n",
      "        job_id   salary commission_pct  manager_id  department_id  \n",
      "0      AD_PRES  24000.0           None         NaN             90  \n",
      "1        AD_VP  17000.0           None       100.0             90  \n",
      "2        AD_VP  17000.0           None       100.0             90  \n",
      "3      IT_PROG   9000.0           None       102.0             60  \n",
      "4      IT_PROG   6000.0           None       103.0             60  \n",
      "..         ...      ...            ...         ...            ...  \n",
      "67      MK_REP   6000.0           None       201.0             20  \n",
      "68      HR_REP   6500.0           None       101.0             40  \n",
      "69      PR_REP  10000.0           None       101.0             70  \n",
      "70      AC_MGR  12000.0           None       101.0            110  \n",
      "71  AC_ACCOUNT   8300.0           None       205.0            110  \n",
      "\n",
      "[72 rows x 11 columns]\n"
     ]
    }
   ],
   "source": [
    "cursor.execute(\"SELECT * FROM employees WHERE commission_pct IS NULL\")\n",
    "result = cursor.fetchall()\n",
    "df = pd.DataFrame(result, columns=[i[0] for i in cursor.description])\n",
    "print(df)"
   ]
  },
  {
   "cell_type": "code",
   "execution_count": 25,
   "id": "ce981560-e987-4e52-92cb-3f3e6badd1c1",
   "metadata": {},
   "outputs": [
    {
     "name": "stdout",
     "output_type": "stream",
     "text": [
      "   employee_id first_name last_name     email        phone_number   hire_date  \\\n",
      "0          100     Steven      King     SKING        515.123.4567  1987-06-17   \n",
      "1          101      Neena   Kochhar  NKOCHHAR        515.123.4568  1989-09-21   \n",
      "2          102        Lex   De Haan   LDEHAAN        515.123.4569  1993-01-13   \n",
      "3          145       John   Russell   JRUSSEL  011.44.1344.429268  1996-10-01   \n",
      "4          146      Karen  Partners  KPARTNER  011.44.1344.467268  1997-01-05   \n",
      "\n",
      "    job_id   salary  commission_pct  manager_id  department_id  \n",
      "0  AD_PRES  24000.0             NaN         NaN             90  \n",
      "1    AD_VP  17000.0             NaN       100.0             90  \n",
      "2    AD_VP  17000.0             NaN       100.0             90  \n",
      "3   SA_MAN  14000.0             0.4       100.0             80  \n",
      "4   SA_MAN  13500.0             0.3       100.0             80  \n"
     ]
    }
   ],
   "source": [
    "cursor.execute(\"SELECT * FROM employees ORDER BY salary DESC LIMIT 5\")\n",
    "result = cursor.fetchall()\n",
    "df = pd.DataFrame(result, columns=[i[0] for i in cursor.description])\n",
    "print(df)"
   ]
  },
  {
   "cell_type": "code",
   "execution_count": 27,
   "id": "5d9aa4a4-bdda-40dd-a96a-3474ba9ada9a",
   "metadata": {},
   "outputs": [
    {
     "name": "stdout",
     "output_type": "stream",
     "text": [
      "Average Salary: 6461.682242990654\n"
     ]
    }
   ],
   "source": [
    "cursor.execute(\"SELECT AVG(salary) AS avg_salary FROM employees\")\n",
    "result = cursor.fetchone()\n",
    "print(f\"Average Salary: {result[0]}\")"
   ]
  },
  {
   "cell_type": "code",
   "execution_count": 29,
   "id": "6662c7f1-b2c2-4517-865c-ab8fcc0f67bd",
   "metadata": {},
   "outputs": [
    {
     "name": "stdout",
     "output_type": "stream",
     "text": [
      "         department_name  employee_count\n",
      "0         Administration               1\n",
      "1              Marketing               2\n",
      "2             Purchasing               6\n",
      "3        Human Resources               1\n",
      "4               Shipping              45\n",
      "5                     IT               5\n",
      "6       Public Relations               1\n",
      "7                  Sales              34\n",
      "8              Executive               3\n",
      "9                Finance               6\n",
      "10            Accounting               2\n",
      "11              Treasury               0\n",
      "12         Corporate Tax               0\n",
      "13    Control And Credit               0\n",
      "14  Shareholder Services               0\n",
      "15              Benefits               0\n",
      "16         Manufacturing               0\n",
      "17          Construction               0\n",
      "18           Contracting               0\n",
      "19            Operations               0\n",
      "20            IT Support               0\n",
      "21                   NOC               0\n",
      "22           IT Helpdesk               0\n",
      "23      Government Sales               0\n",
      "24          Retail Sales               0\n",
      "25            Recruiting               0\n",
      "26               Payroll               0\n"
     ]
    }
   ],
   "source": [
    "cursor.execute(\"\"\"\n",
    "    SELECT d.department_name, COUNT(e.employee_id) AS employee_count\n",
    "    FROM departments d\n",
    "    LEFT JOIN employees e ON d.department_id = e.department_id\n",
    "    GROUP BY d.department_name\n",
    "\"\"\")\n",
    "result = cursor.fetchall()\n",
    "df = pd.DataFrame(result, columns=[\"department_name\", \"employee_count\"])\n",
    "print(df)"
   ]
  },
  {
   "cell_type": "code",
   "execution_count": 31,
   "id": "7bddeb4c-80b9-4166-9827-86b9a36c804f",
   "metadata": {},
   "outputs": [
    {
     "name": "stdout",
     "output_type": "stream",
     "text": [
      "    first_name  name_length\n",
      "0       Steven            6\n",
      "1        Neena            5\n",
      "2          Lex            3\n",
      "3    Alexander            9\n",
      "4        Bruce            5\n",
      "..         ...          ...\n",
      "102        Pat            3\n",
      "103      Susan            5\n",
      "104    Hermann            7\n",
      "105    Shelley            7\n",
      "106    William            7\n",
      "\n",
      "[107 rows x 2 columns]\n"
     ]
    }
   ],
   "source": [
    "cursor.execute(\"SELECT first_name, LENGTH(first_name) AS name_length FROM employees\")\n",
    "result = cursor.fetchall()\n",
    "df = pd.DataFrame(result, columns=[\"first_name\", \"name_length\"])\n",
    "print(df)"
   ]
  },
  {
   "cell_type": "code",
   "execution_count": 33,
   "id": "1c12cb56-7c24-4671-9850-7412c15ab228",
   "metadata": {},
   "outputs": [
    {
     "name": "stdout",
     "output_type": "stream",
     "text": [
      "    first_name last_name  hire_year\n",
      "0       Steven      King       1987\n",
      "1        Neena   Kochhar       1989\n",
      "2          Lex   De Haan       1993\n",
      "3    Alexander    Hunold       1990\n",
      "4        Bruce     Ernst       1991\n",
      "..         ...       ...        ...\n",
      "102        Pat       Fay       1997\n",
      "103      Susan    Mavris       1994\n",
      "104    Hermann      Baer       1994\n",
      "105    Shelley   Higgins       1994\n",
      "106    William     Gietz       1994\n",
      "\n",
      "[107 rows x 3 columns]\n"
     ]
    }
   ],
   "source": [
    "cursor.execute(\"SELECT first_name, last_name, YEAR(hire_date) AS hire_year FROM employees\")\n",
    "result = cursor.fetchall()\n",
    "df = pd.DataFrame(result, columns=[\"first_name\", \"last_name\", \"hire_year\"])\n",
    "print(df)"
   ]
  },
  {
   "cell_type": "code",
   "execution_count": 37,
   "id": "22b8b1fe-c8c8-4628-a2e3-d4f9616b3799",
   "metadata": {},
   "outputs": [
    {
     "name": "stdout",
     "output_type": "stream",
     "text": [
      "                          job_title  min_salary  max_salary\n",
      "0                 Public Accountant      8300.0      8300.0\n",
      "1                Accounting Manager     12000.0     12000.0\n",
      "2          Administration Assistant      4400.0      4400.0\n",
      "3                         President     24000.0     24000.0\n",
      "4     Administration Vice President     17000.0     17000.0\n",
      "5                        Accountant      6900.0      9000.0\n",
      "6                   Finance Manager     12000.0     12000.0\n",
      "7    Human Resources Representative      6500.0      6500.0\n",
      "8                        Programmer      4200.0      9000.0\n",
      "9                 Marketing Manager     13000.0     13000.0\n",
      "10         Marketing Representative      6000.0      6000.0\n",
      "11  Public Relations Representative     10000.0     10000.0\n",
      "12                 Purchasing Clerk      2500.0      3100.0\n",
      "13               Purchasing Manager     11000.0     11000.0\n",
      "14                    Sales Manager     10500.0     14000.0\n",
      "15             Sales Representative      6100.0     11500.0\n",
      "16                   Shipping Clerk      2500.0      4200.0\n",
      "17                      Stock Clerk      2100.0      3600.0\n",
      "18                    Stock Manager      5800.0      8200.0\n"
     ]
    }
   ],
   "source": [
    "cursor.execute(\"\"\"\n",
    "    SELECT j.job_title, MIN(e.salary) AS min_salary, MAX(e.salary) AS max_salary\n",
    "    FROM employees e\n",
    "    JOIN jobs j ON e.job_id = j.job_id\n",
    "    GROUP BY j.job_title\n",
    "\"\"\")\n",
    "result = cursor.fetchall()\n",
    "df = pd.DataFrame(result, columns=[\"job_title\", \"min_salary\", \"max_salary\"])\n",
    "print(df)"
   ]
  },
  {
   "cell_type": "code",
   "execution_count": 39,
   "id": "87af7cd4-0e3b-400f-a036-0d2c81023d53",
   "metadata": {},
   "outputs": [
    {
     "name": "stdout",
     "output_type": "stream",
     "text": [
      "      first_name  last_name department_name\n",
      "0       Jennifer     Whalen  Administration\n",
      "1        Michael  Hartstein       Marketing\n",
      "2            Pat        Fay       Marketing\n",
      "3            Den   Raphaely      Purchasing\n",
      "4      Alexander       Khoo      Purchasing\n",
      "..           ...        ...             ...\n",
      "101       Ismael    Sciarra         Finance\n",
      "102  Jose Manuel      Urman         Finance\n",
      "103         Luis       Popp         Finance\n",
      "104      Shelley    Higgins      Accounting\n",
      "105      William      Gietz      Accounting\n",
      "\n",
      "[106 rows x 3 columns]\n"
     ]
    }
   ],
   "source": [
    "cursor.execute(\"\"\"\n",
    "    SELECT e.first_name, e.last_name, d.department_name\n",
    "    FROM employees e\n",
    "    JOIN departments d ON e.department_id = d.department_id\n",
    "\"\"\")\n",
    "result = cursor.fetchall()\n",
    "df = pd.DataFrame(result, columns=[\"first_name\", \"last_name\", \"department_name\"])\n",
    "print(df)"
   ]
  },
  {
   "cell_type": "code",
   "execution_count": 41,
   "id": "3c76d90a-e52c-4c49-806e-fc061671b5e9",
   "metadata": {},
   "outputs": [
    {
     "name": "stdout",
     "output_type": "stream",
     "text": [
      "    first_name last_name                      job_title                 city\n",
      "0      William     Gietz              Public Accountant              Seattle\n",
      "1      Shelley   Higgins             Accounting Manager              Seattle\n",
      "2     Jennifer    Whalen       Administration Assistant              Seattle\n",
      "3       Steven      King                      President              Seattle\n",
      "4        Neena   Kochhar  Administration Vice President              Seattle\n",
      "..         ...       ...                            ...                  ...\n",
      "101    Matthew     Weiss                  Stock Manager  South San Francisco\n",
      "102       Adam     Fripp                  Stock Manager  South San Francisco\n",
      "103      Payam  Kaufling                  Stock Manager  South San Francisco\n",
      "104     Shanta   Vollman                  Stock Manager  South San Francisco\n",
      "105      Kevin   Mourgos                  Stock Manager  South San Francisco\n",
      "\n",
      "[106 rows x 4 columns]\n"
     ]
    }
   ],
   "source": [
    "cursor.execute(\"\"\"\n",
    "    SELECT e.first_name, e.last_name, j.job_title, l.city\n",
    "    FROM employees e\n",
    "    JOIN jobs j ON e.job_id = j.job_id\n",
    "    JOIN departments d ON e.department_id = d.department_id\n",
    "    JOIN locations l ON d.location_id = l.location_id\n",
    "\"\"\")\n",
    "result = cursor.fetchall()\n",
    "df = pd.DataFrame(result, columns=[\"first_name\", \"last_name\", \"job_title\", \"city\"])\n",
    "print(df)"
   ]
  },
  {
   "cell_type": "code",
   "execution_count": 43,
   "id": "ddcca365-9c15-4c7f-b85c-9d2dc7c20524",
   "metadata": {},
   "outputs": [
    {
     "name": "stdout",
     "output_type": "stream",
     "text": [
      "         department_name  employee_count\n",
      "0         Administration               1\n",
      "1              Marketing               2\n",
      "2             Purchasing               6\n",
      "3        Human Resources               1\n",
      "4               Shipping              45\n",
      "5                     IT               5\n",
      "6       Public Relations               1\n",
      "7                  Sales              34\n",
      "8              Executive               3\n",
      "9                Finance               6\n",
      "10            Accounting               2\n",
      "11              Treasury               0\n",
      "12         Corporate Tax               0\n",
      "13    Control And Credit               0\n",
      "14  Shareholder Services               0\n",
      "15              Benefits               0\n",
      "16         Manufacturing               0\n",
      "17          Construction               0\n",
      "18           Contracting               0\n",
      "19            Operations               0\n",
      "20            IT Support               0\n",
      "21                   NOC               0\n",
      "22           IT Helpdesk               0\n",
      "23      Government Sales               0\n",
      "24          Retail Sales               0\n",
      "25            Recruiting               0\n",
      "26               Payroll               0\n"
     ]
    }
   ],
   "source": [
    "cursor.execute(\"\"\"\n",
    "    SELECT d.department_name, COUNT(e.employee_id) AS employee_count\n",
    "    FROM departments d\n",
    "    LEFT JOIN employees e ON d.department_id = e.department_id\n",
    "    GROUP BY d.department_name\n",
    "\"\"\")\n",
    "result = cursor.fetchall()\n",
    "df = pd.DataFrame(result, columns=[\"department_name\", \"employee_count\"])\n",
    "print(df)"
   ]
  },
  {
   "cell_type": "code",
   "execution_count": 45,
   "id": "d87c352c-aafa-49ec-9f48-cda6bd10c822",
   "metadata": {},
   "outputs": [
    {
     "name": "stdout",
     "output_type": "stream",
     "text": [
      "  first_name  last_name   job_id\n",
      "0      Bruce      Ernst  IT_PROG\n",
      "1      David     Austin  IT_PROG\n",
      "2      Valli  Pataballa  IT_PROG\n",
      "3      Diana    Lorentz  IT_PROG\n"
     ]
    }
   ],
   "source": [
    "cursor.execute(\"\"\"\n",
    "    SELECT e1.first_name, e1.last_name, e1.job_id\n",
    "    FROM employees e1\n",
    "    JOIN employees e2 ON e1.manager_id = e2.employee_id\n",
    "    WHERE e1.job_id = e2.job_id\n",
    "\"\"\")\n",
    "result = cursor.fetchall()\n",
    "df = pd.DataFrame(result, columns=[\"first_name\", \"last_name\", \"job_id\"])\n",
    "print(df)"
   ]
  },
  {
   "cell_type": "code",
   "execution_count": 47,
   "id": "9d66e779-1acc-486a-9bbe-01df8b7d0b4a",
   "metadata": {},
   "outputs": [
    {
     "name": "stdout",
     "output_type": "stream",
     "text": [
      "  first_name  last_name\n",
      "0      Neena    Kochhar\n",
      "1   Jennifer     Whalen\n",
      "2        Lex    De Haan\n",
      "3    Michael  Hartstein\n",
      "4   Jonathon     Taylor\n",
      "5        Den   Raphaely\n",
      "6      Payam   Kaufling\n"
     ]
    }
   ],
   "source": [
    "cursor.execute(\"\"\"\n",
    "    SELECT DISTINCT e.first_name, e.last_name\n",
    "    FROM employees e\n",
    "    JOIN job_history jh ON e.employee_id = jh.employee_id\n",
    "    WHERE jh.job_id != e.job_id\n",
    "\"\"\")\n",
    "result = cursor.fetchall()\n",
    "df = pd.DataFrame(result, columns=[\"first_name\", \"last_name\"])\n",
    "print(df)"
   ]
  },
  {
   "cell_type": "code",
   "execution_count": 49,
   "id": "9467c42f-f109-4544-99ad-f8d93d5fe578",
   "metadata": {},
   "outputs": [],
   "source": [
    "cursor.close()\n",
    "connection.close()"
   ]
  },
  {
   "cell_type": "code",
   "execution_count": null,
   "id": "9843c7a8-68ac-4844-bb96-c2f39f645cb4",
   "metadata": {},
   "outputs": [],
   "source": []
  }
 ],
 "metadata": {
  "kernelspec": {
   "display_name": "Python [conda env:anaconda]",
   "language": "python",
   "name": "conda-env-anaconda-py"
  },
  "language_info": {
   "codemirror_mode": {
    "name": "ipython",
    "version": 3
   },
   "file_extension": ".py",
   "mimetype": "text/x-python",
   "name": "python",
   "nbconvert_exporter": "python",
   "pygments_lexer": "ipython3",
   "version": "3.11.5"
  }
 },
 "nbformat": 4,
 "nbformat_minor": 5
}
